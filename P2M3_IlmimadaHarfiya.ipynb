{
 "cells": [
  {
   "cell_type": "markdown",
   "id": "00581761",
   "metadata": {},
   "source": [
    "# Milestone 3\n",
    "\n",
    "### Nama  : Ilmimada Harfiya\n",
    "### Batch : CODA-RMT-007\n",
    "\n",
    "## Program ini dibuat untuk melakukan eksplorasi data dan validasi data Global Electronics Retailer.\n",
    "---"
   ]
  },
  {
   "cell_type": "markdown",
   "id": "05bd11da",
   "metadata": {},
   "source": [
    "## Join data pada menjadi satu file .csv, menggunakan primary key pada masing-masing data"
   ]
  },
  {
   "cell_type": "code",
   "execution_count": 1,
   "id": "7c8300f1",
   "metadata": {},
   "outputs": [],
   "source": [
    "# import libraries\n",
    "import pandas as pd\n",
    "import numpy as np"
   ]
  },
  {
   "cell_type": "code",
   "execution_count": 2,
   "id": "201e57e8",
   "metadata": {},
   "outputs": [],
   "source": [
    "# read the dataset\n",
    "sales = pd.read_csv('Sales.csv')\n",
    "products = pd.read_csv('Products.csv')\n",
    "stores = pd.read_csv('Stores.csv')"
   ]
  },
  {
   "cell_type": "code",
   "execution_count": 3,
   "id": "59a6a407",
   "metadata": {},
   "outputs": [],
   "source": [
    "# format tanggal agar bisa digabungkan\n",
    "sales[\"Order Date\"] = pd.to_datetime(sales[\"Order Date\"])\n",
    "stores[\"Open Date\"] = pd.to_datetime(stores[\"Open Date\"])\n",
    "sales[\"Delivery Date\"] = pd.to_datetime(sales[\"Delivery Date\"], errors=\"coerce\")"
   ]
  },
  {
   "cell_type": "code",
   "execution_count": 6,
   "id": "0b59ac28",
   "metadata": {},
   "outputs": [
    {
     "data": {
      "text/html": [
       "<div>\n",
       "<style scoped>\n",
       "    .dataframe tbody tr th:only-of-type {\n",
       "        vertical-align: middle;\n",
       "    }\n",
       "\n",
       "    .dataframe tbody tr th {\n",
       "        vertical-align: top;\n",
       "    }\n",
       "\n",
       "    .dataframe thead th {\n",
       "        text-align: right;\n",
       "    }\n",
       "</style>\n",
       "<table border=\"1\" class=\"dataframe\">\n",
       "  <thead>\n",
       "    <tr style=\"text-align: right;\">\n",
       "      <th></th>\n",
       "      <th>Order Number</th>\n",
       "      <th>Line Item</th>\n",
       "      <th>Order Date</th>\n",
       "      <th>Delivery Date</th>\n",
       "      <th>CustomerKey</th>\n",
       "      <th>StoreKey</th>\n",
       "      <th>ProductKey</th>\n",
       "      <th>Quantity</th>\n",
       "      <th>Currency Code</th>\n",
       "      <th>Product Name</th>\n",
       "      <th>...</th>\n",
       "      <th>Unit Cost USD</th>\n",
       "      <th>Unit Price USD</th>\n",
       "      <th>SubcategoryKey</th>\n",
       "      <th>Subcategory</th>\n",
       "      <th>CategoryKey</th>\n",
       "      <th>Category</th>\n",
       "      <th>Country</th>\n",
       "      <th>State</th>\n",
       "      <th>Square Meters</th>\n",
       "      <th>Open Date</th>\n",
       "    </tr>\n",
       "  </thead>\n",
       "  <tbody>\n",
       "    <tr>\n",
       "      <th>0</th>\n",
       "      <td>366000</td>\n",
       "      <td>1</td>\n",
       "      <td>2016-01-01</td>\n",
       "      <td>NaT</td>\n",
       "      <td>265598</td>\n",
       "      <td>10</td>\n",
       "      <td>1304</td>\n",
       "      <td>1</td>\n",
       "      <td>CAD</td>\n",
       "      <td>Contoso Lens Adapter M450 White</td>\n",
       "      <td>...</td>\n",
       "      <td>$31.27</td>\n",
       "      <td>$68.00</td>\n",
       "      <td>406</td>\n",
       "      <td>Cameras &amp; Camcorders Accessories</td>\n",
       "      <td>4</td>\n",
       "      <td>Cameras and camcorders</td>\n",
       "      <td>Canada</td>\n",
       "      <td>Nunavut</td>\n",
       "      <td>1210.0</td>\n",
       "      <td>2015-04-04</td>\n",
       "    </tr>\n",
       "    <tr>\n",
       "      <th>1</th>\n",
       "      <td>366001</td>\n",
       "      <td>1</td>\n",
       "      <td>2016-01-01</td>\n",
       "      <td>2016-01-13</td>\n",
       "      <td>1269051</td>\n",
       "      <td>0</td>\n",
       "      <td>1048</td>\n",
       "      <td>2</td>\n",
       "      <td>USD</td>\n",
       "      <td>A. Datum SLR Camera X136 Silver</td>\n",
       "      <td>...</td>\n",
       "      <td>$141.47</td>\n",
       "      <td>$427.00</td>\n",
       "      <td>402</td>\n",
       "      <td>Digital SLR Cameras</td>\n",
       "      <td>4</td>\n",
       "      <td>Cameras and camcorders</td>\n",
       "      <td>Online</td>\n",
       "      <td>Online</td>\n",
       "      <td>NaN</td>\n",
       "      <td>2010-01-01</td>\n",
       "    </tr>\n",
       "    <tr>\n",
       "      <th>2</th>\n",
       "      <td>366001</td>\n",
       "      <td>2</td>\n",
       "      <td>2016-01-01</td>\n",
       "      <td>2016-01-13</td>\n",
       "      <td>1269051</td>\n",
       "      <td>0</td>\n",
       "      <td>2007</td>\n",
       "      <td>1</td>\n",
       "      <td>USD</td>\n",
       "      <td>Fabrikam Microwave 1.5CuFt X1100 Black</td>\n",
       "      <td>...</td>\n",
       "      <td>$220.64</td>\n",
       "      <td>$665.94</td>\n",
       "      <td>803</td>\n",
       "      <td>Microwaves</td>\n",
       "      <td>8</td>\n",
       "      <td>Home Appliances</td>\n",
       "      <td>Online</td>\n",
       "      <td>Online</td>\n",
       "      <td>NaN</td>\n",
       "      <td>2010-01-01</td>\n",
       "    </tr>\n",
       "    <tr>\n",
       "      <th>3</th>\n",
       "      <td>366002</td>\n",
       "      <td>1</td>\n",
       "      <td>2016-01-01</td>\n",
       "      <td>2016-01-12</td>\n",
       "      <td>266019</td>\n",
       "      <td>0</td>\n",
       "      <td>1106</td>\n",
       "      <td>7</td>\n",
       "      <td>CAD</td>\n",
       "      <td>Contoso SLR Camera M146 Orange</td>\n",
       "      <td>...</td>\n",
       "      <td>$148.08</td>\n",
       "      <td>$322.00</td>\n",
       "      <td>402</td>\n",
       "      <td>Digital SLR Cameras</td>\n",
       "      <td>4</td>\n",
       "      <td>Cameras and camcorders</td>\n",
       "      <td>Online</td>\n",
       "      <td>Online</td>\n",
       "      <td>NaN</td>\n",
       "      <td>2010-01-01</td>\n",
       "    </tr>\n",
       "    <tr>\n",
       "      <th>4</th>\n",
       "      <td>366002</td>\n",
       "      <td>2</td>\n",
       "      <td>2016-01-01</td>\n",
       "      <td>2016-01-12</td>\n",
       "      <td>266019</td>\n",
       "      <td>0</td>\n",
       "      <td>373</td>\n",
       "      <td>1</td>\n",
       "      <td>CAD</td>\n",
       "      <td>Adventure Works Laptop8.9 E0890 White</td>\n",
       "      <td>...</td>\n",
       "      <td>$166.20</td>\n",
       "      <td>$326.00</td>\n",
       "      <td>301</td>\n",
       "      <td>Laptops</td>\n",
       "      <td>3</td>\n",
       "      <td>Computers</td>\n",
       "      <td>Online</td>\n",
       "      <td>Online</td>\n",
       "      <td>NaN</td>\n",
       "      <td>2010-01-01</td>\n",
       "    </tr>\n",
       "  </tbody>\n",
       "</table>\n",
       "<p>5 rows × 22 columns</p>\n",
       "</div>"
      ],
      "text/plain": [
       "   Order Number  Line Item Order Date Delivery Date  CustomerKey  StoreKey  \\\n",
       "0        366000          1 2016-01-01           NaT       265598        10   \n",
       "1        366001          1 2016-01-01    2016-01-13      1269051         0   \n",
       "2        366001          2 2016-01-01    2016-01-13      1269051         0   \n",
       "3        366002          1 2016-01-01    2016-01-12       266019         0   \n",
       "4        366002          2 2016-01-01    2016-01-12       266019         0   \n",
       "\n",
       "   ProductKey  Quantity Currency Code                            Product Name  \\\n",
       "0        1304         1           CAD         Contoso Lens Adapter M450 White   \n",
       "1        1048         2           USD         A. Datum SLR Camera X136 Silver   \n",
       "2        2007         1           USD  Fabrikam Microwave 1.5CuFt X1100 Black   \n",
       "3        1106         7           CAD          Contoso SLR Camera M146 Orange   \n",
       "4         373         1           CAD   Adventure Works Laptop8.9 E0890 White   \n",
       "\n",
       "   ... Unit Cost USD Unit Price USD SubcategoryKey  \\\n",
       "0  ...       $31.27         $68.00             406   \n",
       "1  ...      $141.47        $427.00             402   \n",
       "2  ...      $220.64        $665.94             803   \n",
       "3  ...      $148.08        $322.00             402   \n",
       "4  ...      $166.20        $326.00             301   \n",
       "\n",
       "                        Subcategory  CategoryKey                Category  \\\n",
       "0  Cameras & Camcorders Accessories            4  Cameras and camcorders   \n",
       "1               Digital SLR Cameras            4  Cameras and camcorders   \n",
       "2                        Microwaves            8         Home Appliances   \n",
       "3               Digital SLR Cameras            4  Cameras and camcorders   \n",
       "4                           Laptops            3               Computers   \n",
       "\n",
       "   Country    State Square Meters  Open Date  \n",
       "0   Canada  Nunavut        1210.0 2015-04-04  \n",
       "1   Online   Online           NaN 2010-01-01  \n",
       "2   Online   Online           NaN 2010-01-01  \n",
       "3   Online   Online           NaN 2010-01-01  \n",
       "4   Online   Online           NaN 2010-01-01  \n",
       "\n",
       "[5 rows x 22 columns]"
      ]
     },
     "execution_count": 6,
     "metadata": {},
     "output_type": "execute_result"
    }
   ],
   "source": [
    "# merge dataframes\n",
    "merged_df = pd.merge(sales, products, on='ProductKey', how='left')\n",
    "merged_df = pd.merge(merged_df, stores, on='StoreKey', how='left')\n",
    "\n",
    "merged_df.head()"
   ]
  },
  {
   "cell_type": "code",
   "execution_count": 7,
   "id": "eae34ee1",
   "metadata": {},
   "outputs": [],
   "source": [
    "# Save the merged dataframe to a CSV file\n",
    "merged_df.to_csv('P2M3_ilmimada_harfiya_raw_data.csv', index=False)"
   ]
  },
  {
   "cell_type": "markdown",
   "id": "27526edb",
   "metadata": {},
   "source": [
    "---"
   ]
  },
  {
   "cell_type": "markdown",
   "id": "048567a4",
   "metadata": {},
   "source": [
    "## Eksploratory data analysis"
   ]
  },
  {
   "cell_type": "code",
   "execution_count": 8,
   "id": "6df95207",
   "metadata": {},
   "outputs": [],
   "source": [
    "# load data + ubah datetime format\n",
    "df = pd.read_csv(\"P2M3_ilmimada_harfiya_raw_data.csv\")"
   ]
  },
  {
   "cell_type": "code",
   "execution_count": 9,
   "id": "9a23e197",
   "metadata": {},
   "outputs": [
    {
     "data": {
      "text/html": [
       "<div>\n",
       "<style scoped>\n",
       "    .dataframe tbody tr th:only-of-type {\n",
       "        vertical-align: middle;\n",
       "    }\n",
       "\n",
       "    .dataframe tbody tr th {\n",
       "        vertical-align: top;\n",
       "    }\n",
       "\n",
       "    .dataframe thead th {\n",
       "        text-align: right;\n",
       "    }\n",
       "</style>\n",
       "<table border=\"1\" class=\"dataframe\">\n",
       "  <thead>\n",
       "    <tr style=\"text-align: right;\">\n",
       "      <th></th>\n",
       "      <th>Order Number</th>\n",
       "      <th>Line Item</th>\n",
       "      <th>Order Date</th>\n",
       "      <th>Delivery Date</th>\n",
       "      <th>CustomerKey</th>\n",
       "      <th>StoreKey</th>\n",
       "      <th>ProductKey</th>\n",
       "      <th>Quantity</th>\n",
       "      <th>Currency Code</th>\n",
       "      <th>Product Name</th>\n",
       "      <th>...</th>\n",
       "      <th>Unit Cost USD</th>\n",
       "      <th>Unit Price USD</th>\n",
       "      <th>SubcategoryKey</th>\n",
       "      <th>Subcategory</th>\n",
       "      <th>CategoryKey</th>\n",
       "      <th>Category</th>\n",
       "      <th>Country</th>\n",
       "      <th>State</th>\n",
       "      <th>Square Meters</th>\n",
       "      <th>Open Date</th>\n",
       "    </tr>\n",
       "  </thead>\n",
       "  <tbody>\n",
       "    <tr>\n",
       "      <th>0</th>\n",
       "      <td>366000</td>\n",
       "      <td>1</td>\n",
       "      <td>2016-01-01</td>\n",
       "      <td>NaN</td>\n",
       "      <td>265598</td>\n",
       "      <td>10</td>\n",
       "      <td>1304</td>\n",
       "      <td>1</td>\n",
       "      <td>CAD</td>\n",
       "      <td>Contoso Lens Adapter M450 White</td>\n",
       "      <td>...</td>\n",
       "      <td>$31.27</td>\n",
       "      <td>$68.00</td>\n",
       "      <td>406</td>\n",
       "      <td>Cameras &amp; Camcorders Accessories</td>\n",
       "      <td>4</td>\n",
       "      <td>Cameras and camcorders</td>\n",
       "      <td>Canada</td>\n",
       "      <td>Nunavut</td>\n",
       "      <td>1210.0</td>\n",
       "      <td>2015-04-04</td>\n",
       "    </tr>\n",
       "    <tr>\n",
       "      <th>1</th>\n",
       "      <td>366001</td>\n",
       "      <td>1</td>\n",
       "      <td>2016-01-01</td>\n",
       "      <td>2016-01-13</td>\n",
       "      <td>1269051</td>\n",
       "      <td>0</td>\n",
       "      <td>1048</td>\n",
       "      <td>2</td>\n",
       "      <td>USD</td>\n",
       "      <td>A. Datum SLR Camera X136 Silver</td>\n",
       "      <td>...</td>\n",
       "      <td>$141.47</td>\n",
       "      <td>$427.00</td>\n",
       "      <td>402</td>\n",
       "      <td>Digital SLR Cameras</td>\n",
       "      <td>4</td>\n",
       "      <td>Cameras and camcorders</td>\n",
       "      <td>Online</td>\n",
       "      <td>Online</td>\n",
       "      <td>NaN</td>\n",
       "      <td>2010-01-01</td>\n",
       "    </tr>\n",
       "    <tr>\n",
       "      <th>2</th>\n",
       "      <td>366001</td>\n",
       "      <td>2</td>\n",
       "      <td>2016-01-01</td>\n",
       "      <td>2016-01-13</td>\n",
       "      <td>1269051</td>\n",
       "      <td>0</td>\n",
       "      <td>2007</td>\n",
       "      <td>1</td>\n",
       "      <td>USD</td>\n",
       "      <td>Fabrikam Microwave 1.5CuFt X1100 Black</td>\n",
       "      <td>...</td>\n",
       "      <td>$220.64</td>\n",
       "      <td>$665.94</td>\n",
       "      <td>803</td>\n",
       "      <td>Microwaves</td>\n",
       "      <td>8</td>\n",
       "      <td>Home Appliances</td>\n",
       "      <td>Online</td>\n",
       "      <td>Online</td>\n",
       "      <td>NaN</td>\n",
       "      <td>2010-01-01</td>\n",
       "    </tr>\n",
       "    <tr>\n",
       "      <th>3</th>\n",
       "      <td>366002</td>\n",
       "      <td>1</td>\n",
       "      <td>2016-01-01</td>\n",
       "      <td>2016-01-12</td>\n",
       "      <td>266019</td>\n",
       "      <td>0</td>\n",
       "      <td>1106</td>\n",
       "      <td>7</td>\n",
       "      <td>CAD</td>\n",
       "      <td>Contoso SLR Camera M146 Orange</td>\n",
       "      <td>...</td>\n",
       "      <td>$148.08</td>\n",
       "      <td>$322.00</td>\n",
       "      <td>402</td>\n",
       "      <td>Digital SLR Cameras</td>\n",
       "      <td>4</td>\n",
       "      <td>Cameras and camcorders</td>\n",
       "      <td>Online</td>\n",
       "      <td>Online</td>\n",
       "      <td>NaN</td>\n",
       "      <td>2010-01-01</td>\n",
       "    </tr>\n",
       "    <tr>\n",
       "      <th>4</th>\n",
       "      <td>366002</td>\n",
       "      <td>2</td>\n",
       "      <td>2016-01-01</td>\n",
       "      <td>2016-01-12</td>\n",
       "      <td>266019</td>\n",
       "      <td>0</td>\n",
       "      <td>373</td>\n",
       "      <td>1</td>\n",
       "      <td>CAD</td>\n",
       "      <td>Adventure Works Laptop8.9 E0890 White</td>\n",
       "      <td>...</td>\n",
       "      <td>$166.20</td>\n",
       "      <td>$326.00</td>\n",
       "      <td>301</td>\n",
       "      <td>Laptops</td>\n",
       "      <td>3</td>\n",
       "      <td>Computers</td>\n",
       "      <td>Online</td>\n",
       "      <td>Online</td>\n",
       "      <td>NaN</td>\n",
       "      <td>2010-01-01</td>\n",
       "    </tr>\n",
       "  </tbody>\n",
       "</table>\n",
       "<p>5 rows × 22 columns</p>\n",
       "</div>"
      ],
      "text/plain": [
       "   Order Number  Line Item  Order Date Delivery Date  CustomerKey  StoreKey  \\\n",
       "0        366000          1  2016-01-01           NaN       265598        10   \n",
       "1        366001          1  2016-01-01    2016-01-13      1269051         0   \n",
       "2        366001          2  2016-01-01    2016-01-13      1269051         0   \n",
       "3        366002          1  2016-01-01    2016-01-12       266019         0   \n",
       "4        366002          2  2016-01-01    2016-01-12       266019         0   \n",
       "\n",
       "   ProductKey  Quantity Currency Code                            Product Name  \\\n",
       "0        1304         1           CAD         Contoso Lens Adapter M450 White   \n",
       "1        1048         2           USD         A. Datum SLR Camera X136 Silver   \n",
       "2        2007         1           USD  Fabrikam Microwave 1.5CuFt X1100 Black   \n",
       "3        1106         7           CAD          Contoso SLR Camera M146 Orange   \n",
       "4         373         1           CAD   Adventure Works Laptop8.9 E0890 White   \n",
       "\n",
       "   ... Unit Cost USD Unit Price USD SubcategoryKey  \\\n",
       "0  ...       $31.27         $68.00             406   \n",
       "1  ...      $141.47        $427.00             402   \n",
       "2  ...      $220.64        $665.94             803   \n",
       "3  ...      $148.08        $322.00             402   \n",
       "4  ...      $166.20        $326.00             301   \n",
       "\n",
       "                        Subcategory  CategoryKey                Category  \\\n",
       "0  Cameras & Camcorders Accessories            4  Cameras and camcorders   \n",
       "1               Digital SLR Cameras            4  Cameras and camcorders   \n",
       "2                        Microwaves            8         Home Appliances   \n",
       "3               Digital SLR Cameras            4  Cameras and camcorders   \n",
       "4                           Laptops            3               Computers   \n",
       "\n",
       "   Country    State Square Meters   Open Date  \n",
       "0   Canada  Nunavut        1210.0  2015-04-04  \n",
       "1   Online   Online           NaN  2010-01-01  \n",
       "2   Online   Online           NaN  2010-01-01  \n",
       "3   Online   Online           NaN  2010-01-01  \n",
       "4   Online   Online           NaN  2010-01-01  \n",
       "\n",
       "[5 rows x 22 columns]"
      ]
     },
     "execution_count": 9,
     "metadata": {},
     "output_type": "execute_result"
    }
   ],
   "source": [
    "df.head()"
   ]
  },
  {
   "cell_type": "code",
   "execution_count": 10,
   "id": "6c8d61f7",
   "metadata": {},
   "outputs": [
    {
     "name": "stdout",
     "output_type": "stream",
     "text": [
      "<class 'pandas.core.frame.DataFrame'>\n",
      "RangeIndex: 62884 entries, 0 to 62883\n",
      "Data columns (total 22 columns):\n",
      " #   Column          Non-Null Count  Dtype  \n",
      "---  ------          --------------  -----  \n",
      " 0   Order Number    62884 non-null  int64  \n",
      " 1   Line Item       62884 non-null  int64  \n",
      " 2   Order Date      62884 non-null  object \n",
      " 3   Delivery Date   13165 non-null  object \n",
      " 4   CustomerKey     62884 non-null  int64  \n",
      " 5   StoreKey        62884 non-null  int64  \n",
      " 6   ProductKey      62884 non-null  int64  \n",
      " 7   Quantity        62884 non-null  int64  \n",
      " 8   Currency Code   62884 non-null  object \n",
      " 9   Product Name    62884 non-null  object \n",
      " 10  Brand           62884 non-null  object \n",
      " 11  Color           62884 non-null  object \n",
      " 12  Unit Cost USD   62884 non-null  object \n",
      " 13  Unit Price USD  62884 non-null  object \n",
      " 14  SubcategoryKey  62884 non-null  int64  \n",
      " 15  Subcategory     62884 non-null  object \n",
      " 16  CategoryKey     62884 non-null  int64  \n",
      " 17  Category        62884 non-null  object \n",
      " 18  Country         62884 non-null  object \n",
      " 19  State           62884 non-null  object \n",
      " 20  Square Meters   49719 non-null  float64\n",
      " 21  Open Date       62884 non-null  object \n",
      "dtypes: float64(1), int64(8), object(13)\n",
      "memory usage: 10.6+ MB\n"
     ]
    }
   ],
   "source": [
    "# Cek struktur data\n",
    "df.info()"
   ]
  },
  {
   "cell_type": "code",
   "execution_count": 11,
   "id": "f2d3ccb0",
   "metadata": {},
   "outputs": [],
   "source": [
    "# ubah semua nama kolom menjadi snake_case dan ganti huruf besar menjadi huruf kecil\n",
    "df.columns = df.columns.str.lower().str.replace(' ', '_')"
   ]
  },
  {
   "cell_type": "code",
   "execution_count": 12,
   "id": "6348a550",
   "metadata": {},
   "outputs": [],
   "source": [
    "# ubah format tanggal\n",
    "df['order_date'] = pd.to_datetime(df['order_date'], errors='coerce')\n",
    "df['delivery_date'] = pd.to_datetime(df['delivery_date'], errors='coerce')\n",
    "df['open_date'] = pd.to_datetime(df['open_date'], errors='coerce')"
   ]
  },
  {
   "cell_type": "code",
   "execution_count": 13,
   "id": "c565b809",
   "metadata": {},
   "outputs": [
    {
     "name": "stdout",
     "output_type": "stream",
     "text": [
      "0   2016-01-01\n",
      "1   2016-01-01\n",
      "2   2016-01-01\n",
      "3   2016-01-01\n",
      "4   2016-01-01\n",
      "Name: order_date, dtype: datetime64[ns]\n",
      "0          NaT\n",
      "1   2016-01-13\n",
      "2   2016-01-13\n",
      "3   2016-01-12\n",
      "4   2016-01-12\n",
      "Name: delivery_date, dtype: datetime64[ns]\n",
      "0   2015-04-04\n",
      "1   2010-01-01\n",
      "2   2010-01-01\n",
      "3   2010-01-01\n",
      "4   2010-01-01\n",
      "Name: open_date, dtype: datetime64[ns]\n"
     ]
    }
   ],
   "source": [
    " # cek format tanggal\n",
    "print(df['order_date'].head())\n",
    "print(df['delivery_date'].head())\n",
    "print(df['open_date'].head())"
   ]
  },
  {
   "cell_type": "code",
   "execution_count": 16,
   "id": "165ba3a7",
   "metadata": {},
   "outputs": [
    {
     "data": {
      "text/plain": [
       "delivery_date     49719\n",
       "order_number          0\n",
       "color                 0\n",
       "state                 0\n",
       "country               0\n",
       "category              0\n",
       "categorykey           0\n",
       "subcategory           0\n",
       "subcategorykey        0\n",
       "unit_price_usd        0\n",
       "unit_cost_usd         0\n",
       "brand                 0\n",
       "line_item             0\n",
       "product_name          0\n",
       "currency_code         0\n",
       "quantity              0\n",
       "productkey            0\n",
       "storekey              0\n",
       "customerkey           0\n",
       "order_date            0\n",
       "open_date             0\n",
       "dtype: int64"
      ]
     },
     "execution_count": 16,
     "metadata": {},
     "output_type": "execute_result"
    }
   ],
   "source": [
    "# cek missing values\n",
    "df.isnull().sum().sort_values(ascending=False)"
   ]
  },
  {
   "cell_type": "code",
   "execution_count": 15,
   "id": "82e72bd5",
   "metadata": {},
   "outputs": [],
   "source": [
    "# hapus kolom yang tidak diperlukan\n",
    "df = df.drop(columns=['square_meters'])"
   ]
  },
  {
   "cell_type": "code",
   "execution_count": 18,
   "id": "ce6fd24b",
   "metadata": {},
   "outputs": [],
   "source": [
    "# isi missing values pada kolom delivery_date dan state_code dengan 'na'\n",
    "df['delivery_date'] = df['delivery_date'].fillna('na')"
   ]
  },
  {
   "cell_type": "code",
   "execution_count": 19,
   "id": "c961c77f",
   "metadata": {},
   "outputs": [
    {
     "data": {
      "text/plain": [
       "order_number      0\n",
       "color             0\n",
       "state             0\n",
       "country           0\n",
       "category          0\n",
       "categorykey       0\n",
       "subcategory       0\n",
       "subcategorykey    0\n",
       "unit_price_usd    0\n",
       "unit_cost_usd     0\n",
       "brand             0\n",
       "line_item         0\n",
       "product_name      0\n",
       "currency_code     0\n",
       "quantity          0\n",
       "productkey        0\n",
       "storekey          0\n",
       "customerkey       0\n",
       "delivery_date     0\n",
       "order_date        0\n",
       "open_date         0\n",
       "dtype: int64"
      ]
     },
     "execution_count": 19,
     "metadata": {},
     "output_type": "execute_result"
    }
   ],
   "source": [
    "# cek missing values setelah koreksi\n",
    "df.isnull().sum().sort_values(ascending=False)"
   ]
  },
  {
   "cell_type": "code",
   "execution_count": 20,
   "id": "a9a38ea8",
   "metadata": {},
   "outputs": [],
   "source": [
    "# ubah kolom unit cost dan unit price menjadi numerik\n",
    "df['unit_cost_usd'] = df['unit_cost_usd'].replace('[\\$,]', '', regex=True).astype(float)\n",
    "df['unit_price_usd'] = df['unit_price_usd'].replace('[\\$,]', '', regex=True).astype(float)"
   ]
  },
  {
   "cell_type": "code",
   "execution_count": 21,
   "id": "5362dab8",
   "metadata": {},
   "outputs": [
    {
     "data": {
      "text/html": [
       "<div>\n",
       "<style scoped>\n",
       "    .dataframe tbody tr th:only-of-type {\n",
       "        vertical-align: middle;\n",
       "    }\n",
       "\n",
       "    .dataframe tbody tr th {\n",
       "        vertical-align: top;\n",
       "    }\n",
       "\n",
       "    .dataframe thead th {\n",
       "        text-align: right;\n",
       "    }\n",
       "</style>\n",
       "<table border=\"1\" class=\"dataframe\">\n",
       "  <thead>\n",
       "    <tr style=\"text-align: right;\">\n",
       "      <th></th>\n",
       "      <th>order_number</th>\n",
       "      <th>line_item</th>\n",
       "      <th>order_date</th>\n",
       "      <th>customerkey</th>\n",
       "      <th>storekey</th>\n",
       "      <th>productkey</th>\n",
       "      <th>quantity</th>\n",
       "      <th>unit_cost_usd</th>\n",
       "      <th>unit_price_usd</th>\n",
       "      <th>subcategorykey</th>\n",
       "      <th>categorykey</th>\n",
       "      <th>open_date</th>\n",
       "    </tr>\n",
       "  </thead>\n",
       "  <tbody>\n",
       "    <tr>\n",
       "      <th>count</th>\n",
       "      <td>6.288400e+04</td>\n",
       "      <td>62884.000000</td>\n",
       "      <td>62884</td>\n",
       "      <td>6.288400e+04</td>\n",
       "      <td>62884.000000</td>\n",
       "      <td>62884.000000</td>\n",
       "      <td>62884.000000</td>\n",
       "      <td>62884.000000</td>\n",
       "      <td>62884.000000</td>\n",
       "      <td>62884.000000</td>\n",
       "      <td>62884.000000</td>\n",
       "      <td>62884</td>\n",
       "    </tr>\n",
       "    <tr>\n",
       "      <th>mean</th>\n",
       "      <td>1.430905e+06</td>\n",
       "      <td>2.164207</td>\n",
       "      <td>2018-11-30 21:21:56.939126016</td>\n",
       "      <td>1.180797e+06</td>\n",
       "      <td>31.802144</td>\n",
       "      <td>1125.859344</td>\n",
       "      <td>3.144790</td>\n",
       "      <td>116.253013</td>\n",
       "      <td>280.569848</td>\n",
       "      <td>450.198238</td>\n",
       "      <td>4.469611</td>\n",
       "      <td>2011-05-30 02:16:19.174352896</td>\n",
       "    </tr>\n",
       "    <tr>\n",
       "      <th>min</th>\n",
       "      <td>3.660000e+05</td>\n",
       "      <td>1.000000</td>\n",
       "      <td>2016-01-01 00:00:00</td>\n",
       "      <td>3.010000e+02</td>\n",
       "      <td>0.000000</td>\n",
       "      <td>1.000000</td>\n",
       "      <td>1.000000</td>\n",
       "      <td>0.480000</td>\n",
       "      <td>0.950000</td>\n",
       "      <td>101.000000</td>\n",
       "      <td>1.000000</td>\n",
       "      <td>2005-03-04 00:00:00</td>\n",
       "    </tr>\n",
       "    <tr>\n",
       "      <th>25%</th>\n",
       "      <td>1.121017e+06</td>\n",
       "      <td>1.000000</td>\n",
       "      <td>2018-01-25 00:00:00</td>\n",
       "      <td>6.808580e+05</td>\n",
       "      <td>8.000000</td>\n",
       "      <td>437.000000</td>\n",
       "      <td>1.000000</td>\n",
       "      <td>22.050000</td>\n",
       "      <td>47.950000</td>\n",
       "      <td>303.000000</td>\n",
       "      <td>3.000000</td>\n",
       "      <td>2010-01-01 00:00:00</td>\n",
       "    </tr>\n",
       "    <tr>\n",
       "      <th>50%</th>\n",
       "      <td>1.498016e+06</td>\n",
       "      <td>2.000000</td>\n",
       "      <td>2019-02-06 00:00:00</td>\n",
       "      <td>1.261200e+06</td>\n",
       "      <td>37.000000</td>\n",
       "      <td>1358.000000</td>\n",
       "      <td>2.000000</td>\n",
       "      <td>79.530000</td>\n",
       "      <td>181.000000</td>\n",
       "      <td>501.000000</td>\n",
       "      <td>5.000000</td>\n",
       "      <td>2010-01-01 00:00:00</td>\n",
       "    </tr>\n",
       "    <tr>\n",
       "      <th>75%</th>\n",
       "      <td>1.788010e+06</td>\n",
       "      <td>3.000000</td>\n",
       "      <td>2019-11-23 00:00:00</td>\n",
       "      <td>1.686496e+06</td>\n",
       "      <td>53.000000</td>\n",
       "      <td>1650.000000</td>\n",
       "      <td>4.000000</td>\n",
       "      <td>138.420000</td>\n",
       "      <td>300.000000</td>\n",
       "      <td>602.000000</td>\n",
       "      <td>6.000000</td>\n",
       "      <td>2013-06-07 00:00:00</td>\n",
       "    </tr>\n",
       "    <tr>\n",
       "      <th>max</th>\n",
       "      <td>2.243032e+06</td>\n",
       "      <td>7.000000</td>\n",
       "      <td>2021-02-20 00:00:00</td>\n",
       "      <td>2.099937e+06</td>\n",
       "      <td>66.000000</td>\n",
       "      <td>2517.000000</td>\n",
       "      <td>10.000000</td>\n",
       "      <td>1060.220000</td>\n",
       "      <td>3199.990000</td>\n",
       "      <td>808.000000</td>\n",
       "      <td>8.000000</td>\n",
       "      <td>2019-03-05 00:00:00</td>\n",
       "    </tr>\n",
       "    <tr>\n",
       "      <th>std</th>\n",
       "      <td>4.532963e+05</td>\n",
       "      <td>1.365170</td>\n",
       "      <td>NaN</td>\n",
       "      <td>5.859634e+05</td>\n",
       "      <td>22.978188</td>\n",
       "      <td>709.244010</td>\n",
       "      <td>2.256371</td>\n",
       "      <td>140.033327</td>\n",
       "      <td>382.827515</td>\n",
       "      <td>212.710652</td>\n",
       "      <td>2.132682</td>\n",
       "      <td>NaN</td>\n",
       "    </tr>\n",
       "  </tbody>\n",
       "</table>\n",
       "</div>"
      ],
      "text/plain": [
       "       order_number     line_item                     order_date  \\\n",
       "count  6.288400e+04  62884.000000                          62884   \n",
       "mean   1.430905e+06      2.164207  2018-11-30 21:21:56.939126016   \n",
       "min    3.660000e+05      1.000000            2016-01-01 00:00:00   \n",
       "25%    1.121017e+06      1.000000            2018-01-25 00:00:00   \n",
       "50%    1.498016e+06      2.000000            2019-02-06 00:00:00   \n",
       "75%    1.788010e+06      3.000000            2019-11-23 00:00:00   \n",
       "max    2.243032e+06      7.000000            2021-02-20 00:00:00   \n",
       "std    4.532963e+05      1.365170                            NaN   \n",
       "\n",
       "        customerkey      storekey    productkey      quantity  unit_cost_usd  \\\n",
       "count  6.288400e+04  62884.000000  62884.000000  62884.000000   62884.000000   \n",
       "mean   1.180797e+06     31.802144   1125.859344      3.144790     116.253013   \n",
       "min    3.010000e+02      0.000000      1.000000      1.000000       0.480000   \n",
       "25%    6.808580e+05      8.000000    437.000000      1.000000      22.050000   \n",
       "50%    1.261200e+06     37.000000   1358.000000      2.000000      79.530000   \n",
       "75%    1.686496e+06     53.000000   1650.000000      4.000000     138.420000   \n",
       "max    2.099937e+06     66.000000   2517.000000     10.000000    1060.220000   \n",
       "std    5.859634e+05     22.978188    709.244010      2.256371     140.033327   \n",
       "\n",
       "       unit_price_usd  subcategorykey   categorykey  \\\n",
       "count    62884.000000    62884.000000  62884.000000   \n",
       "mean       280.569848      450.198238      4.469611   \n",
       "min          0.950000      101.000000      1.000000   \n",
       "25%         47.950000      303.000000      3.000000   \n",
       "50%        181.000000      501.000000      5.000000   \n",
       "75%        300.000000      602.000000      6.000000   \n",
       "max       3199.990000      808.000000      8.000000   \n",
       "std        382.827515      212.710652      2.132682   \n",
       "\n",
       "                           open_date  \n",
       "count                          62884  \n",
       "mean   2011-05-30 02:16:19.174352896  \n",
       "min              2005-03-04 00:00:00  \n",
       "25%              2010-01-01 00:00:00  \n",
       "50%              2010-01-01 00:00:00  \n",
       "75%              2013-06-07 00:00:00  \n",
       "max              2019-03-05 00:00:00  \n",
       "std                              NaN  "
      ]
     },
     "execution_count": 21,
     "metadata": {},
     "output_type": "execute_result"
    }
   ],
   "source": [
    "df.describe()"
   ]
  },
  {
   "cell_type": "code",
   "execution_count": 22,
   "id": "4ba5d773",
   "metadata": {},
   "outputs": [
    {
     "data": {
      "text/html": [
       "<div>\n",
       "<style scoped>\n",
       "    .dataframe tbody tr th:only-of-type {\n",
       "        vertical-align: middle;\n",
       "    }\n",
       "\n",
       "    .dataframe tbody tr th {\n",
       "        vertical-align: top;\n",
       "    }\n",
       "\n",
       "    .dataframe thead th {\n",
       "        text-align: right;\n",
       "    }\n",
       "</style>\n",
       "<table border=\"1\" class=\"dataframe\">\n",
       "  <thead>\n",
       "    <tr style=\"text-align: right;\">\n",
       "      <th></th>\n",
       "      <th>order_number</th>\n",
       "      <th>line_item</th>\n",
       "      <th>order_date</th>\n",
       "      <th>delivery_date</th>\n",
       "      <th>customerkey</th>\n",
       "      <th>storekey</th>\n",
       "      <th>productkey</th>\n",
       "      <th>quantity</th>\n",
       "      <th>currency_code</th>\n",
       "      <th>product_name</th>\n",
       "      <th>...</th>\n",
       "      <th>color</th>\n",
       "      <th>unit_cost_usd</th>\n",
       "      <th>unit_price_usd</th>\n",
       "      <th>subcategorykey</th>\n",
       "      <th>subcategory</th>\n",
       "      <th>categorykey</th>\n",
       "      <th>category</th>\n",
       "      <th>country</th>\n",
       "      <th>state</th>\n",
       "      <th>open_date</th>\n",
       "    </tr>\n",
       "  </thead>\n",
       "  <tbody>\n",
       "    <tr>\n",
       "      <th>0</th>\n",
       "      <td>366000</td>\n",
       "      <td>1</td>\n",
       "      <td>2016-01-01</td>\n",
       "      <td>na</td>\n",
       "      <td>265598</td>\n",
       "      <td>10</td>\n",
       "      <td>1304</td>\n",
       "      <td>1</td>\n",
       "      <td>CAD</td>\n",
       "      <td>Contoso Lens Adapter M450 White</td>\n",
       "      <td>...</td>\n",
       "      <td>White</td>\n",
       "      <td>31.27</td>\n",
       "      <td>68.00</td>\n",
       "      <td>406</td>\n",
       "      <td>Cameras &amp; Camcorders Accessories</td>\n",
       "      <td>4</td>\n",
       "      <td>Cameras and camcorders</td>\n",
       "      <td>Canada</td>\n",
       "      <td>Nunavut</td>\n",
       "      <td>2015-04-04</td>\n",
       "    </tr>\n",
       "    <tr>\n",
       "      <th>1</th>\n",
       "      <td>366001</td>\n",
       "      <td>1</td>\n",
       "      <td>2016-01-01</td>\n",
       "      <td>2016-01-13 00:00:00</td>\n",
       "      <td>1269051</td>\n",
       "      <td>0</td>\n",
       "      <td>1048</td>\n",
       "      <td>2</td>\n",
       "      <td>USD</td>\n",
       "      <td>A. Datum SLR Camera X136 Silver</td>\n",
       "      <td>...</td>\n",
       "      <td>Silver</td>\n",
       "      <td>141.47</td>\n",
       "      <td>427.00</td>\n",
       "      <td>402</td>\n",
       "      <td>Digital SLR Cameras</td>\n",
       "      <td>4</td>\n",
       "      <td>Cameras and camcorders</td>\n",
       "      <td>Online</td>\n",
       "      <td>Online</td>\n",
       "      <td>2010-01-01</td>\n",
       "    </tr>\n",
       "    <tr>\n",
       "      <th>2</th>\n",
       "      <td>366001</td>\n",
       "      <td>2</td>\n",
       "      <td>2016-01-01</td>\n",
       "      <td>2016-01-13 00:00:00</td>\n",
       "      <td>1269051</td>\n",
       "      <td>0</td>\n",
       "      <td>2007</td>\n",
       "      <td>1</td>\n",
       "      <td>USD</td>\n",
       "      <td>Fabrikam Microwave 1.5CuFt X1100 Black</td>\n",
       "      <td>...</td>\n",
       "      <td>Black</td>\n",
       "      <td>220.64</td>\n",
       "      <td>665.94</td>\n",
       "      <td>803</td>\n",
       "      <td>Microwaves</td>\n",
       "      <td>8</td>\n",
       "      <td>Home Appliances</td>\n",
       "      <td>Online</td>\n",
       "      <td>Online</td>\n",
       "      <td>2010-01-01</td>\n",
       "    </tr>\n",
       "    <tr>\n",
       "      <th>3</th>\n",
       "      <td>366002</td>\n",
       "      <td>1</td>\n",
       "      <td>2016-01-01</td>\n",
       "      <td>2016-01-12 00:00:00</td>\n",
       "      <td>266019</td>\n",
       "      <td>0</td>\n",
       "      <td>1106</td>\n",
       "      <td>7</td>\n",
       "      <td>CAD</td>\n",
       "      <td>Contoso SLR Camera M146 Orange</td>\n",
       "      <td>...</td>\n",
       "      <td>Orange</td>\n",
       "      <td>148.08</td>\n",
       "      <td>322.00</td>\n",
       "      <td>402</td>\n",
       "      <td>Digital SLR Cameras</td>\n",
       "      <td>4</td>\n",
       "      <td>Cameras and camcorders</td>\n",
       "      <td>Online</td>\n",
       "      <td>Online</td>\n",
       "      <td>2010-01-01</td>\n",
       "    </tr>\n",
       "    <tr>\n",
       "      <th>4</th>\n",
       "      <td>366002</td>\n",
       "      <td>2</td>\n",
       "      <td>2016-01-01</td>\n",
       "      <td>2016-01-12 00:00:00</td>\n",
       "      <td>266019</td>\n",
       "      <td>0</td>\n",
       "      <td>373</td>\n",
       "      <td>1</td>\n",
       "      <td>CAD</td>\n",
       "      <td>Adventure Works Laptop8.9 E0890 White</td>\n",
       "      <td>...</td>\n",
       "      <td>White</td>\n",
       "      <td>166.20</td>\n",
       "      <td>326.00</td>\n",
       "      <td>301</td>\n",
       "      <td>Laptops</td>\n",
       "      <td>3</td>\n",
       "      <td>Computers</td>\n",
       "      <td>Online</td>\n",
       "      <td>Online</td>\n",
       "      <td>2010-01-01</td>\n",
       "    </tr>\n",
       "  </tbody>\n",
       "</table>\n",
       "<p>5 rows × 21 columns</p>\n",
       "</div>"
      ],
      "text/plain": [
       "   order_number  line_item order_date        delivery_date  customerkey  \\\n",
       "0        366000          1 2016-01-01                   na       265598   \n",
       "1        366001          1 2016-01-01  2016-01-13 00:00:00      1269051   \n",
       "2        366001          2 2016-01-01  2016-01-13 00:00:00      1269051   \n",
       "3        366002          1 2016-01-01  2016-01-12 00:00:00       266019   \n",
       "4        366002          2 2016-01-01  2016-01-12 00:00:00       266019   \n",
       "\n",
       "   storekey  productkey  quantity currency_code  \\\n",
       "0        10        1304         1           CAD   \n",
       "1         0        1048         2           USD   \n",
       "2         0        2007         1           USD   \n",
       "3         0        1106         7           CAD   \n",
       "4         0         373         1           CAD   \n",
       "\n",
       "                             product_name  ...   color unit_cost_usd  \\\n",
       "0         Contoso Lens Adapter M450 White  ...   White         31.27   \n",
       "1         A. Datum SLR Camera X136 Silver  ...  Silver        141.47   \n",
       "2  Fabrikam Microwave 1.5CuFt X1100 Black  ...   Black        220.64   \n",
       "3          Contoso SLR Camera M146 Orange  ...  Orange        148.08   \n",
       "4   Adventure Works Laptop8.9 E0890 White  ...   White        166.20   \n",
       "\n",
       "   unit_price_usd  subcategorykey                       subcategory  \\\n",
       "0           68.00             406  Cameras & Camcorders Accessories   \n",
       "1          427.00             402               Digital SLR Cameras   \n",
       "2          665.94             803                        Microwaves   \n",
       "3          322.00             402               Digital SLR Cameras   \n",
       "4          326.00             301                           Laptops   \n",
       "\n",
       "  categorykey                category country    state  open_date  \n",
       "0           4  Cameras and camcorders  Canada  Nunavut 2015-04-04  \n",
       "1           4  Cameras and camcorders  Online   Online 2010-01-01  \n",
       "2           8         Home Appliances  Online   Online 2010-01-01  \n",
       "3           4  Cameras and camcorders  Online   Online 2010-01-01  \n",
       "4           3               Computers  Online   Online 2010-01-01  \n",
       "\n",
       "[5 rows x 21 columns]"
      ]
     },
     "execution_count": 22,
     "metadata": {},
     "output_type": "execute_result"
    }
   ],
   "source": [
    "df.head()"
   ]
  },
  {
   "cell_type": "code",
   "execution_count": 23,
   "id": "5967550a",
   "metadata": {},
   "outputs": [
    {
     "name": "stdout",
     "output_type": "stream",
     "text": [
      "Number of duplicate rows: 0\n"
     ]
    }
   ],
   "source": [
    "# cek duplikasi\n",
    "duplicates = df.duplicated().sum()\n",
    "print(f\"Number of duplicate rows: {duplicates}\")"
   ]
  },
  {
   "cell_type": "code",
   "execution_count": 24,
   "id": "c9d5546d",
   "metadata": {},
   "outputs": [],
   "source": [
    "# gabungkan order number dan line item jadi id unik\n",
    "df[\"order_line_id\"] = df[\"order_number\"].astype(str) + \"_\" + df[\"line_item\"].astype(str)"
   ]
  },
  {
   "cell_type": "code",
   "execution_count": 25,
   "id": "38208cac",
   "metadata": {},
   "outputs": [
    {
     "data": {
      "text/plain": [
       "0          68.00\n",
       "1         854.00\n",
       "2         665.94\n",
       "3        2254.00\n",
       "4         326.00\n",
       "          ...   \n",
       "62879     417.00\n",
       "62880     480.00\n",
       "62881     219.98\n",
       "62882     140.26\n",
       "62883    4753.00\n",
       "Name: total_sales, Length: 62884, dtype: float64"
      ]
     },
     "execution_count": 25,
     "metadata": {},
     "output_type": "execute_result"
    }
   ],
   "source": [
    "# buat kolom baru total_sales\n",
    "df[\"total_sales\"] = df[\"unit_price_usd\"] * df[\"quantity\"]\n",
    "df[\"total_sales\"]"
   ]
  },
  {
   "cell_type": "code",
   "execution_count": 26,
   "id": "80707773",
   "metadata": {},
   "outputs": [],
   "source": [
    "# save dataframe ke csv\n",
    "df.to_csv('P2M3_ilmimada_harfiya_data_raw.csv', index=False)"
   ]
  },
  {
   "cell_type": "code",
   "execution_count": 27,
   "id": "737145e3",
   "metadata": {},
   "outputs": [
    {
     "name": "stdout",
     "output_type": "stream",
     "text": [
      "<class 'pandas.core.frame.DataFrame'>\n",
      "RangeIndex: 62884 entries, 0 to 62883\n",
      "Data columns (total 23 columns):\n",
      " #   Column          Non-Null Count  Dtype         \n",
      "---  ------          --------------  -----         \n",
      " 0   order_number    62884 non-null  int64         \n",
      " 1   line_item       62884 non-null  int64         \n",
      " 2   order_date      62884 non-null  datetime64[ns]\n",
      " 3   delivery_date   62884 non-null  object        \n",
      " 4   customerkey     62884 non-null  int64         \n",
      " 5   storekey        62884 non-null  int64         \n",
      " 6   productkey      62884 non-null  int64         \n",
      " 7   quantity        62884 non-null  int64         \n",
      " 8   currency_code   62884 non-null  object        \n",
      " 9   product_name    62884 non-null  object        \n",
      " 10  brand           62884 non-null  object        \n",
      " 11  color           62884 non-null  object        \n",
      " 12  unit_cost_usd   62884 non-null  float64       \n",
      " 13  unit_price_usd  62884 non-null  float64       \n",
      " 14  subcategorykey  62884 non-null  int64         \n",
      " 15  subcategory     62884 non-null  object        \n",
      " 16  categorykey     62884 non-null  int64         \n",
      " 17  category        62884 non-null  object        \n",
      " 18  country         62884 non-null  object        \n",
      " 19  state           62884 non-null  object        \n",
      " 20  open_date       62884 non-null  datetime64[ns]\n",
      " 21  order_line_id   62884 non-null  object        \n",
      " 22  total_sales     62884 non-null  float64       \n",
      "dtypes: datetime64[ns](2), float64(3), int64(8), object(10)\n",
      "memory usage: 11.0+ MB\n"
     ]
    }
   ],
   "source": [
    "df.info()"
   ]
  },
  {
   "cell_type": "code",
   "execution_count": 28,
   "id": "28505fb3",
   "metadata": {},
   "outputs": [
    {
     "name": "stdout",
     "output_type": "stream",
     "text": [
      "Unique categories: ['Cameras and camcorders' 'Home Appliances' 'Computers' 'TV and Video'\n",
      " 'Cell phones' 'Music, Movies and Audio Books' 'Games and Toys' 'Audio']\n"
     ]
    }
   ],
   "source": [
    "# value unik pada kolom category\n",
    "unique_categories = df['category'].unique()\n",
    "print(f\"Unique categories: {unique_categories}\")"
   ]
  },
  {
   "cell_type": "markdown",
   "id": "14056f36",
   "metadata": {},
   "source": [
    "---\n",
    "## Great Expectaion Section\n",
    "---"
   ]
  },
  {
   "cell_type": "code",
   "execution_count": 38,
   "id": "3c714e6e",
   "metadata": {},
   "outputs": [
    {
     "name": "stdout",
     "output_type": "stream",
     "text": [
      "\n",
      "\u001b[1m[\u001b[0m\u001b[34;49mnotice\u001b[0m\u001b[1;39;49m]\u001b[0m\u001b[39;49m A new release of pip is available: \u001b[0m\u001b[31;49m23.0.1\u001b[0m\u001b[39;49m -> \u001b[0m\u001b[32;49m25.2\u001b[0m\n",
      "\u001b[1m[\u001b[0m\u001b[34;49mnotice\u001b[0m\u001b[1;39;49m]\u001b[0m\u001b[39;49m To update, run: \u001b[0m\u001b[32;49mpip install --upgrade pip\u001b[0m\n"
     ]
    }
   ],
   "source": [
    "# install the library great_expectations\n",
    "!pip install -q \"great-expectations==0.18.19\""
   ]
  },
  {
   "cell_type": "markdown",
   "id": "f914c116",
   "metadata": {},
   "source": [
    "### instatiate data context"
   ]
  },
  {
   "cell_type": "code",
   "execution_count": 29,
   "id": "3c9b8d78",
   "metadata": {},
   "outputs": [],
   "source": [
    "# create data context\n",
    "from great_expectations.data_context import FileDataContext\n",
    "context = FileDataContext.create(project_root_dir=\".\")"
   ]
  },
  {
   "cell_type": "markdown",
   "id": "b86636ef",
   "metadata": {},
   "source": [
    "### connect to a data source"
   ]
  },
  {
   "cell_type": "code",
   "execution_count": 30,
   "id": "c0c11e56",
   "metadata": {},
   "outputs": [
    {
     "ename": "DataContextError",
     "evalue": "Can not write the fluent datasource csv-data-global-electronic-retail because a datasource of that name already exists in the data context.",
     "output_type": "error",
     "traceback": [
      "\u001b[0;31m---------------------------------------------------------------------------\u001b[0m",
      "\u001b[0;31mDataContextError\u001b[0m                          Traceback (most recent call last)",
      "Cell \u001b[0;32mIn[30], line 3\u001b[0m\n\u001b[1;32m      1\u001b[0m \u001b[38;5;66;03m# give a name to a data source\u001b[39;00m\n\u001b[1;32m      2\u001b[0m datasource_name \u001b[38;5;241m=\u001b[39m \u001b[38;5;124m\"\u001b[39m\u001b[38;5;124mcsv-data-global-electronic-retail\u001b[39m\u001b[38;5;124m\"\u001b[39m\n\u001b[0;32m----> 3\u001b[0m datasource \u001b[38;5;241m=\u001b[39m \u001b[43mcontext\u001b[49m\u001b[38;5;241;43m.\u001b[39;49m\u001b[43msources\u001b[49m\u001b[38;5;241;43m.\u001b[39;49m\u001b[43madd_pandas\u001b[49m\u001b[43m(\u001b[49m\u001b[43mdatasource_name\u001b[49m\u001b[43m)\u001b[49m\n\u001b[1;32m      5\u001b[0m \u001b[38;5;66;03m# give a name to a data asset\u001b[39;00m\n\u001b[1;32m      6\u001b[0m asset_name \u001b[38;5;241m=\u001b[39m \u001b[38;5;124m\"\u001b[39m\u001b[38;5;124msales_data\u001b[39m\u001b[38;5;124m\"\u001b[39m\n",
      "File \u001b[0;32m~/.pyenv/versions/3.10.13/lib/python3.10/site-packages/great_expectations/datasource/fluent/sources.py:473\u001b[0m, in \u001b[0;36m_SourceFactories.create_add_crud_method.<locals>.add_datasource\u001b[0;34m(name_or_datasource, **kwargs)\u001b[0m\n\u001b[1;32m    471\u001b[0m datasource\u001b[38;5;241m.\u001b[39m_data_context \u001b[38;5;241m=\u001b[39m \u001b[38;5;28mself\u001b[39m\u001b[38;5;241m.\u001b[39m_data_context\n\u001b[1;32m    472\u001b[0m datasource\u001b[38;5;241m.\u001b[39mtest_connection()\n\u001b[0;32m--> 473\u001b[0m datasource \u001b[38;5;241m=\u001b[39m \u001b[38;5;28;43mself\u001b[39;49m\u001b[38;5;241;43m.\u001b[39;49m\u001b[43m_data_context\u001b[49m\u001b[38;5;241;43m.\u001b[39;49m\u001b[43m_add_fluent_datasource\u001b[49m\u001b[43m(\u001b[49m\u001b[43mdatasource\u001b[49m\u001b[43m)\u001b[49m\n\u001b[1;32m    475\u001b[0m \u001b[38;5;28;01mreturn\u001b[39;00m datasource\n",
      "File \u001b[0;32m~/.pyenv/versions/3.10.13/lib/python3.10/site-packages/great_expectations/data_context/data_context/abstract_data_context.py:780\u001b[0m, in \u001b[0;36mAbstractDataContext._add_fluent_datasource\u001b[0;34m(self, datasource, save_changes, **kwargs)\u001b[0m\n\u001b[1;32m    778\u001b[0m \u001b[38;5;66;03m# We currently don't allow one to overwrite a datasource with this internal method\u001b[39;00m\n\u001b[1;32m    779\u001b[0m \u001b[38;5;28;01mif\u001b[39;00m datasource_name \u001b[38;5;129;01min\u001b[39;00m \u001b[38;5;28mself\u001b[39m\u001b[38;5;241m.\u001b[39mdatasources:\n\u001b[0;32m--> 780\u001b[0m     \u001b[38;5;28;01mraise\u001b[39;00m gx_exceptions\u001b[38;5;241m.\u001b[39mDataContextError(\n\u001b[1;32m    781\u001b[0m         \u001b[38;5;124mf\u001b[39m\u001b[38;5;124m\"\u001b[39m\u001b[38;5;124mCan not write the fluent datasource \u001b[39m\u001b[38;5;132;01m{\u001b[39;00mdatasource_name\u001b[38;5;132;01m}\u001b[39;00m\u001b[38;5;124m because a datasource of that \u001b[39m\u001b[38;5;124m\"\u001b[39m\n\u001b[1;32m    782\u001b[0m         \u001b[38;5;124m\"\u001b[39m\u001b[38;5;124mname already exists in the data context.\u001b[39m\u001b[38;5;124m\"\u001b[39m\n\u001b[1;32m    783\u001b[0m     )\n\u001b[1;32m    785\u001b[0m \u001b[38;5;28;01mif\u001b[39;00m \u001b[38;5;129;01mnot\u001b[39;00m datasource:\n\u001b[1;32m    786\u001b[0m     ds_type \u001b[38;5;241m=\u001b[39m _SourceFactories\u001b[38;5;241m.\u001b[39mtype_lookup[kwargs[\u001b[38;5;124m\"\u001b[39m\u001b[38;5;124mtype\u001b[39m\u001b[38;5;124m\"\u001b[39m]]\n",
      "\u001b[0;31mDataContextError\u001b[0m: Can not write the fluent datasource csv-data-global-electronic-retail because a datasource of that name already exists in the data context."
     ]
    }
   ],
   "source": [
    "# give a name to a data source\n",
    "datasource_name = \"csv-data-global-electronic-retail\"\n",
    "datasource = context.sources.add_pandas(datasource_name)\n",
    "\n",
    "# give a name to a data asset\n",
    "asset_name = \"sales_data\"\n",
    "path_to_data = \"P2M3_ilmimada_harfiya_data_raw.csv\"\n",
    "asset = datasource.add_csv_asset(asset_name, filepath_or_buffer=path_to_data)\n",
    "\n",
    "# build batch request\n",
    "batch_request = asset.build_batch_request()"
   ]
  },
  {
   "cell_type": "markdown",
   "id": "ce99549d",
   "metadata": {},
   "source": [
    "### create an expectation suites"
   ]
  },
  {
   "cell_type": "code",
   "execution_count": 31,
   "id": "0f471215",
   "metadata": {},
   "outputs": [
    {
     "ename": "NameError",
     "evalue": "name 'batch_request' is not defined",
     "output_type": "error",
     "traceback": [
      "\u001b[0;31m---------------------------------------------------------------------------\u001b[0m",
      "\u001b[0;31mNameError\u001b[0m                                 Traceback (most recent call last)",
      "Cell \u001b[0;32mIn[31], line 7\u001b[0m\n\u001b[1;32m      3\u001b[0m context\u001b[38;5;241m.\u001b[39madd_or_update_expectation_suite(expectation_suite_name)\n\u001b[1;32m      5\u001b[0m \u001b[38;5;66;03m# create a validator using above expectation suite\u001b[39;00m\n\u001b[1;32m      6\u001b[0m validator \u001b[38;5;241m=\u001b[39m context\u001b[38;5;241m.\u001b[39mget_validator(\n\u001b[0;32m----> 7\u001b[0m     batch_request\u001b[38;5;241m=\u001b[39m\u001b[43mbatch_request\u001b[49m,\n\u001b[1;32m      8\u001b[0m     expectation_suite_name\u001b[38;5;241m=\u001b[39mexpectation_suite_name\n\u001b[1;32m      9\u001b[0m )\n\u001b[1;32m     11\u001b[0m \u001b[38;5;66;03m# check the validator\u001b[39;00m\n\u001b[1;32m     12\u001b[0m validator\u001b[38;5;241m.\u001b[39mhead()\n",
      "\u001b[0;31mNameError\u001b[0m: name 'batch_request' is not defined"
     ]
    }
   ],
   "source": [
    "# create an expectation suite\n",
    "expectation_suite_name = \"sales_data_expectations\"\n",
    "context.add_or_update_expectation_suite(expectation_suite_name)\n",
    "\n",
    "# create a validator using above expectation suite\n",
    "validator = context.get_validator(\n",
    "    batch_request=batch_request,\n",
    "    expectation_suite_name=expectation_suite_name\n",
    ")\n",
    "\n",
    "# check the validator\n",
    "validator.head()"
   ]
  },
  {
   "cell_type": "markdown",
   "id": "422296c4",
   "metadata": {},
   "source": [
    "### expectations"
   ]
  },
  {
   "cell_type": "code",
   "execution_count": 43,
   "id": "b444496c",
   "metadata": {},
   "outputs": [
    {
     "data": {
      "application/vnd.jupyter.widget-view+json": {
       "model_id": "f9ff1d5d98844c1794db0d8c31ccedde",
       "version_major": 2,
       "version_minor": 0
      },
      "text/plain": [
       "Calculating Metrics:   0%|          | 0/6 [00:00<?, ?it/s]"
      ]
     },
     "metadata": {},
     "output_type": "display_data"
    },
    {
     "data": {
      "text/plain": [
       "{\n",
       "  \"success\": true,\n",
       "  \"result\": {\n",
       "    \"element_count\": 62884,\n",
       "    \"unexpected_count\": 0,\n",
       "    \"unexpected_percent\": 0.0,\n",
       "    \"partial_unexpected_list\": []\n",
       "  },\n",
       "  \"meta\": {},\n",
       "  \"exception_info\": {\n",
       "    \"raised_exception\": false,\n",
       "    \"exception_traceback\": null,\n",
       "    \"exception_message\": null\n",
       "  }\n",
       "}"
      ]
     },
     "execution_count": 43,
     "metadata": {},
     "output_type": "execute_result"
    }
   ],
   "source": [
    "# expectation 1 : column order_date should not have null values\n",
    "validator.expect_column_values_to_not_be_null(column=\"order_date\")"
   ]
  },
  {
   "cell_type": "code",
   "execution_count": 48,
   "id": "4c683e74",
   "metadata": {},
   "outputs": [
    {
     "data": {
      "application/vnd.jupyter.widget-view+json": {
       "model_id": "a68707e28036493fbb295addba1dcf7e",
       "version_major": 2,
       "version_minor": 0
      },
      "text/plain": [
       "Calculating Metrics:   0%|          | 0/8 [00:00<?, ?it/s]"
      ]
     },
     "metadata": {},
     "output_type": "display_data"
    },
    {
     "data": {
      "text/plain": [
       "{\n",
       "  \"success\": true,\n",
       "  \"result\": {\n",
       "    \"element_count\": 62884,\n",
       "    \"unexpected_count\": 0,\n",
       "    \"unexpected_percent\": 0.0,\n",
       "    \"partial_unexpected_list\": [],\n",
       "    \"missing_count\": 0,\n",
       "    \"missing_percent\": 0.0,\n",
       "    \"unexpected_percent_total\": 0.0,\n",
       "    \"unexpected_percent_nonmissing\": 0.0\n",
       "  },\n",
       "  \"meta\": {},\n",
       "  \"exception_info\": {\n",
       "    \"raised_exception\": false,\n",
       "    \"exception_traceback\": null,\n",
       "    \"exception_message\": null\n",
       "  }\n",
       "}"
      ]
     },
     "execution_count": 48,
     "metadata": {},
     "output_type": "execute_result"
    }
   ],
   "source": [
    "# expectation 2 : column order_line_id should be unique\n",
    "validator.expect_column_values_to_be_unique(column=\"order_line_id\")"
   ]
  },
  {
   "cell_type": "code",
   "execution_count": 75,
   "id": "de44dcac",
   "metadata": {},
   "outputs": [
    {
     "data": {
      "application/vnd.jupyter.widget-view+json": {
       "model_id": "b3ca08845a8b4db79a5030a2e79095f3",
       "version_major": 2,
       "version_minor": 0
      },
      "text/plain": [
       "Calculating Metrics:   0%|          | 0/8 [00:00<?, ?it/s]"
      ]
     },
     "metadata": {},
     "output_type": "display_data"
    },
    {
     "data": {
      "text/plain": [
       "{\n",
       "  \"success\": true,\n",
       "  \"result\": {\n",
       "    \"element_count\": 62884,\n",
       "    \"unexpected_count\": 0,\n",
       "    \"unexpected_percent\": 0.0,\n",
       "    \"partial_unexpected_list\": [],\n",
       "    \"missing_count\": 0,\n",
       "    \"missing_percent\": 0.0,\n",
       "    \"unexpected_percent_total\": 0.0,\n",
       "    \"unexpected_percent_nonmissing\": 0.0\n",
       "  },\n",
       "  \"meta\": {},\n",
       "  \"exception_info\": {\n",
       "    \"raised_exception\": false,\n",
       "    \"exception_traceback\": null,\n",
       "    \"exception_message\": null\n",
       "  }\n",
       "}"
      ]
     },
     "execution_count": 75,
     "metadata": {},
     "output_type": "execute_result"
    }
   ],
   "source": [
    "# expectation 3 : column quantity must be between 0 and 100\n",
    "validator.expect_column_values_to_be_between(\n",
    "    column=\"quantity\",\n",
    "    min_value=0,\n",
    "    max_value=100\n",
    ")\n"
   ]
  },
  {
   "cell_type": "code",
   "execution_count": null,
   "id": "cbb66d3b",
   "metadata": {},
   "outputs": [
    {
     "data": {
      "application/vnd.jupyter.widget-view+json": {
       "model_id": "c7eed4f283db49f6ad61825075b0f709",
       "version_major": 2,
       "version_minor": 0
      },
      "text/plain": [
       "Calculating Metrics:   0%|          | 0/2 [00:00<?, ?it/s]"
      ]
     },
     "metadata": {},
     "output_type": "display_data"
    },
    {
     "data": {
      "text/plain": [
       "{\n",
       "  \"success\": true,\n",
       "  \"result\": {},\n",
       "  \"meta\": {},\n",
       "  \"exception_info\": {\n",
       "    \"raised_exception\": false,\n",
       "    \"exception_traceback\": null,\n",
       "    \"exception_message\": null\n",
       "  }\n",
       "}"
      ]
     },
     "execution_count": 74,
     "metadata": {},
     "output_type": "execute_result"
    }
   ],
   "source": [
    "# expectation 4 : column quantity must be exist to calculate the ammount of total sales\n",
    "validator.expect_column_to_exist(column=\"quantity\")"
   ]
  },
  {
   "cell_type": "code",
   "execution_count": null,
   "id": "c8947fb1",
   "metadata": {},
   "outputs": [
    {
     "data": {
      "application/vnd.jupyter.widget-view+json": {
       "model_id": "8bf682f47698490eafeaab7e02b46385",
       "version_major": 2,
       "version_minor": 0
      },
      "text/plain": [
       "Calculating Metrics:   0%|          | 0/8 [00:00<?, ?it/s]"
      ]
     },
     "metadata": {},
     "output_type": "display_data"
    },
    {
     "data": {
      "text/plain": [
       "{\n",
       "  \"success\": true,\n",
       "  \"result\": {\n",
       "    \"element_count\": 62884,\n",
       "    \"unexpected_count\": 0,\n",
       "    \"unexpected_percent\": 0.0,\n",
       "    \"partial_unexpected_list\": [],\n",
       "    \"missing_count\": 0,\n",
       "    \"missing_percent\": 0.0,\n",
       "    \"unexpected_percent_total\": 0.0,\n",
       "    \"unexpected_percent_nonmissing\": 0.0\n",
       "  },\n",
       "  \"meta\": {},\n",
       "  \"exception_info\": {\n",
       "    \"raised_exception\": false,\n",
       "    \"exception_traceback\": null,\n",
       "    \"exception_message\": null\n",
       "  }\n",
       "}"
      ]
     },
     "execution_count": 79,
     "metadata": {},
     "output_type": "execute_result"
    }
   ],
   "source": [
    "# expectation 5 : column category must contain one of the following 8 things :\n",
    "\n",
    "validator.expect_column_values_to_be_in_set(\n",
    "    column=\"category\",\n",
    "    value_set=[\n",
    "        \"Cameras and camcorders\",\n",
    "        \"Home Appliances\",\n",
    "        \"Computers\",\n",
    "        \"TV and Video\",\n",
    "        \"Cell phones\",\n",
    "        \"Music, Movies and Audio Books\",\n",
    "        \"Games and Toys\",\n",
    "        \"Audio\"\n",
    "    ]\n",
    ")"
   ]
  },
  {
   "cell_type": "code",
   "execution_count": null,
   "id": "5ae6fb78",
   "metadata": {},
   "outputs": [
    {
     "data": {
      "application/vnd.jupyter.widget-view+json": {
       "model_id": "805669b4cce54ea3b61622c48598a02c",
       "version_major": 2,
       "version_minor": 0
      },
      "text/plain": [
       "Calculating Metrics:   0%|          | 0/8 [00:00<?, ?it/s]"
      ]
     },
     "metadata": {},
     "output_type": "display_data"
    },
    {
     "data": {
      "text/plain": [
       "{\n",
       "  \"success\": false,\n",
       "  \"result\": {\n",
       "    \"element_count\": 62884,\n",
       "    \"unexpected_count\": 62884,\n",
       "    \"unexpected_percent\": 100.0,\n",
       "    \"partial_unexpected_list\": [\n",
       "      \"2016-01-01\",\n",
       "      \"2016-01-01\",\n",
       "      \"2016-01-01\",\n",
       "      \"2016-01-01\",\n",
       "      \"2016-01-01\",\n",
       "      \"2016-01-01\",\n",
       "      \"2016-01-01\",\n",
       "      \"2016-01-01\",\n",
       "      \"2016-01-01\",\n",
       "      \"2016-01-01\",\n",
       "      \"2016-01-01\",\n",
       "      \"2016-01-01\",\n",
       "      \"2016-01-01\",\n",
       "      \"2016-01-01\",\n",
       "      \"2016-01-01\",\n",
       "      \"2016-01-01\",\n",
       "      \"2016-01-01\",\n",
       "      \"2016-01-01\",\n",
       "      \"2016-01-01\",\n",
       "      \"2016-01-01\"\n",
       "    ],\n",
       "    \"missing_count\": 0,\n",
       "    \"missing_percent\": 0.0,\n",
       "    \"unexpected_percent_total\": 100.0,\n",
       "    \"unexpected_percent_nonmissing\": 100.0\n",
       "  },\n",
       "  \"meta\": {},\n",
       "  \"exception_info\": {\n",
       "    \"raised_exception\": false,\n",
       "    \"exception_traceback\": null,\n",
       "    \"exception_message\": null\n",
       "  }\n",
       "}"
      ]
     },
     "execution_count": 80,
     "metadata": {},
     "output_type": "execute_result"
    }
   ],
   "source": [
    "# expectation 6 : column order_date must be in the past\n",
    "from datetime import datetime\n",
    "current_date = datetime.now()\n",
    "validator.expect_column_values_to_be_in_set(\n",
    "    column=\"order_date\",\n",
    "    value_set=[date for date in pd.date_range(start='2000-01-01', end=current_date)]\n",
    ")"
   ]
  },
  {
   "cell_type": "code",
   "execution_count": null,
   "id": "6010d59b",
   "metadata": {},
   "outputs": [
    {
     "data": {
      "application/vnd.jupyter.widget-view+json": {
       "model_id": "6721ca1d9c294663bb8ea379ad3d060c",
       "version_major": 2,
       "version_minor": 0
      },
      "text/plain": [
       "Calculating Metrics:   0%|          | 0/8 [00:00<?, ?it/s]"
      ]
     },
     "metadata": {},
     "output_type": "display_data"
    },
    {
     "data": {
      "text/plain": [
       "{\n",
       "  \"success\": true,\n",
       "  \"result\": {\n",
       "    \"element_count\": 62884,\n",
       "    \"unexpected_count\": 0,\n",
       "    \"unexpected_percent\": 0.0,\n",
       "    \"partial_unexpected_list\": [],\n",
       "    \"missing_count\": 0,\n",
       "    \"missing_percent\": 0.0,\n",
       "    \"unexpected_percent_total\": 0.0,\n",
       "    \"unexpected_percent_nonmissing\": 0.0\n",
       "  },\n",
       "  \"meta\": {},\n",
       "  \"exception_info\": {\n",
       "    \"raised_exception\": false,\n",
       "    \"exception_traceback\": null,\n",
       "    \"exception_message\": null\n",
       "  }\n",
       "}"
      ]
     },
     "execution_count": 81,
     "metadata": {},
     "output_type": "execute_result"
    }
   ],
   "source": [
    "# expectation 7 : column gender must be one of the following values:\n",
    "validator.expect_column_values_to_be_in_set(\n",
    "    column=\"gender\",\n",
    "    value_set=[\n",
    "        \"Male\",\n",
    "        \"Female\"\n",
    "    ]\n",
    ")"
   ]
  },
  {
   "cell_type": "code",
   "execution_count": null,
   "id": "a9706eac",
   "metadata": {},
   "outputs": [
    {
     "data": {
      "application/vnd.jupyter.widget-view+json": {
       "model_id": "9187ea677a83437da842a66583300900",
       "version_major": 2,
       "version_minor": 0
      },
      "text/plain": [
       "Calculating Metrics:   0%|          | 0/8 [00:00<?, ?it/s]"
      ]
     },
     "metadata": {},
     "output_type": "display_data"
    },
    {
     "data": {
      "application/vnd.jupyter.widget-view+json": {
       "model_id": "b1007cdec1cf484bb8e114e114efed77",
       "version_major": 2,
       "version_minor": 0
      },
      "text/plain": [
       "Calculating Metrics:   0%|          | 0/8 [00:00<?, ?it/s]"
      ]
     },
     "metadata": {},
     "output_type": "display_data"
    },
    {
     "data": {
      "application/vnd.jupyter.widget-view+json": {
       "model_id": "aac1d9d7c99546d38be809dcbabf0da7",
       "version_major": 2,
       "version_minor": 0
      },
      "text/plain": [
       "Calculating Metrics:   0%|          | 0/8 [00:00<?, ?it/s]"
      ]
     },
     "metadata": {},
     "output_type": "display_data"
    },
    {
     "data": {
      "text/plain": [
       "{\n",
       "  \"success\": false,\n",
       "  \"result\": {\n",
       "    \"element_count\": 62884,\n",
       "    \"unexpected_count\": 62884,\n",
       "    \"unexpected_percent\": 100.0,\n",
       "    \"partial_unexpected_list\": [\n",
       "      \"2015-04-04\",\n",
       "      \"2010-01-01\",\n",
       "      \"2010-01-01\",\n",
       "      \"2010-01-01\",\n",
       "      \"2010-01-01\",\n",
       "      \"2010-01-01\",\n",
       "      \"2015-04-04\",\n",
       "      \"2015-04-04\",\n",
       "      \"2015-12-09\",\n",
       "      \"2015-01-01\",\n",
       "      \"2015-01-01\",\n",
       "      \"2008-01-01\",\n",
       "      \"2008-01-01\",\n",
       "      \"2008-01-01\",\n",
       "      \"2005-03-04\",\n",
       "      \"2010-01-01\",\n",
       "      \"2014-01-01\",\n",
       "      \"2014-01-01\",\n",
       "      \"2014-01-01\",\n",
       "      \"2014-01-01\"\n",
       "    ],\n",
       "    \"missing_count\": 0,\n",
       "    \"missing_percent\": 0.0,\n",
       "    \"unexpected_percent_total\": 100.0,\n",
       "    \"unexpected_percent_nonmissing\": 100.0\n",
       "  },\n",
       "  \"meta\": {},\n",
       "  \"exception_info\": {\n",
       "    \"raised_exception\": false,\n",
       "    \"exception_traceback\": null,\n",
       "    \"exception_message\": null\n",
       "  }\n",
       "}"
      ]
     },
     "execution_count": 82,
     "metadata": {},
     "output_type": "execute_result"
    }
   ],
   "source": [
    "# expectation 8 : columns order_date, delivery_date, open_date, must be in datetime format\n",
    "validator.expect_column_values_to_be_of_type(\n",
    "    column=\"order_date\",\n",
    "    type_=\"datetime\"\n",
    ")\n",
    "validator.expect_column_values_to_be_of_type(\n",
    "    column=\"delivery_date\",\n",
    "    type_=\"datetime\"\n",
    ")\n",
    "validator.expect_column_values_to_be_of_type(\n",
    "    column=\"open_date\",\n",
    "    type_=\"datetime\"\n",
    ")"
   ]
  },
  {
   "cell_type": "code",
   "execution_count": 83,
   "id": "abbac5f3",
   "metadata": {},
   "outputs": [],
   "source": [
    "# save the expectation suite\n",
    "validator.save_expectation_suite(discard_failed_expectations=False)"
   ]
  },
  {
   "cell_type": "markdown",
   "id": "46766119",
   "metadata": {},
   "source": [
    "### checkpoint"
   ]
  },
  {
   "cell_type": "code",
   "execution_count": 84,
   "id": "0755acac",
   "metadata": {},
   "outputs": [],
   "source": [
    "# create a checkpoint\n",
    "checkpoint_1 = context.add_or_update_checkpoint(\n",
    "    name=\"checkpoint_1\",\n",
    "    validator=validator,\n",
    ")"
   ]
  },
  {
   "cell_type": "code",
   "execution_count": 86,
   "id": "15e8ce08",
   "metadata": {},
   "outputs": [
    {
     "data": {
      "application/vnd.jupyter.widget-view+json": {
       "model_id": "032aa7a11f6c4eb0ba9d10084a4bda8e",
       "version_major": 2,
       "version_minor": 0
      },
      "text/plain": [
       "Calculating Metrics:   0%|          | 0/50 [00:00<?, ?it/s]"
      ]
     },
     "metadata": {},
     "output_type": "display_data"
    }
   ],
   "source": [
    "# run the checkpoint\n",
    "checkpoint_result = checkpoint_1.run()"
   ]
  },
  {
   "cell_type": "markdown",
   "id": "7ddcc212",
   "metadata": {},
   "source": [
    "### data docs"
   ]
  },
  {
   "cell_type": "code",
   "execution_count": 87,
   "id": "9554102f",
   "metadata": {},
   "outputs": [
    {
     "data": {
      "text/plain": [
       "{'local_site': 'file:///Volumes/Data-Disk/Hacktiv8/CODA_RMT_007/Phase_2/tugas/p2-coda007-rmt-m3-ilmimada/gx/uncommitted/data_docs/local_site/index.html'}"
      ]
     },
     "execution_count": 87,
     "metadata": {},
     "output_type": "execute_result"
    }
   ],
   "source": [
    "# build data docs\n",
    "context.build_data_docs()"
   ]
  }
 ],
 "metadata": {
  "kernelspec": {
   "display_name": "3.10.13",
   "language": "python",
   "name": "python3"
  },
  "language_info": {
   "codemirror_mode": {
    "name": "ipython",
    "version": 3
   },
   "file_extension": ".py",
   "mimetype": "text/x-python",
   "name": "python",
   "nbconvert_exporter": "python",
   "pygments_lexer": "ipython3",
   "version": "3.10.13"
  }
 },
 "nbformat": 4,
 "nbformat_minor": 5
}
